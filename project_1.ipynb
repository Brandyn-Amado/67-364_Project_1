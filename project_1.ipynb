{
 "cells": [
  {
   "cell_type": "markdown",
   "metadata": {},
   "source": [
    "# 67-364 Project 1\n",
    "## Brandyn Amado, Shane Aung"
   ]
  },
  {
   "cell_type": "markdown",
   "metadata": {},
   "source": [
    "## Data:"
   ]
  },
  {
   "cell_type": "markdown",
   "metadata": {},
   "source": [
    "https://www.kaggle.com/pavansubhasht/ibm-hr-analytics-attrition-dataset/data"
   ]
  },
  {
   "cell_type": "markdown",
   "metadata": {},
   "source": [
    "## Cleaning:"
   ]
  },
  {
   "cell_type": "code",
   "execution_count": 1,
   "metadata": {},
   "outputs": [],
   "source": [
    "import numpy as np\n",
    "import pandas as pd\n",
    "import matplotlib.pyplot as plt\n",
    "%matplotlib inline"
   ]
  },
  {
   "cell_type": "code",
   "execution_count": 2,
   "metadata": {},
   "outputs": [],
   "source": [
    "ibm_csv = 'https://raw.githubusercontent.com/Brandyn-Amado/67-364_Project_1/master/IBM-HR-Employee-Attrition.csv'"
   ]
  },
  {
   "cell_type": "code",
   "execution_count": 3,
   "metadata": {},
   "outputs": [],
   "source": [
    "ibm = pd.read_csv(ibm_csv)"
   ]
  },
  {
   "cell_type": "code",
   "execution_count": 4,
   "metadata": {},
   "outputs": [
    {
     "data": {
      "text/html": [
       "<div>\n",
       "<style scoped>\n",
       "    .dataframe tbody tr th:only-of-type {\n",
       "        vertical-align: middle;\n",
       "    }\n",
       "\n",
       "    .dataframe tbody tr th {\n",
       "        vertical-align: top;\n",
       "    }\n",
       "\n",
       "    .dataframe thead th {\n",
       "        text-align: right;\n",
       "    }\n",
       "</style>\n",
       "<table border=\"1\" class=\"dataframe\">\n",
       "  <thead>\n",
       "    <tr style=\"text-align: right;\">\n",
       "      <th></th>\n",
       "      <th>Age</th>\n",
       "      <th>Attrition</th>\n",
       "      <th>BusinessTravel</th>\n",
       "      <th>DailyRate</th>\n",
       "      <th>Department</th>\n",
       "      <th>DistanceFromHome</th>\n",
       "      <th>Education</th>\n",
       "      <th>EducationField</th>\n",
       "      <th>EmployeeCount</th>\n",
       "      <th>EmployeeNumber</th>\n",
       "      <th>...</th>\n",
       "      <th>RelationshipSatisfaction</th>\n",
       "      <th>StandardHours</th>\n",
       "      <th>StockOptionLevel</th>\n",
       "      <th>TotalWorkingYears</th>\n",
       "      <th>TrainingTimesLastYear</th>\n",
       "      <th>WorkLifeBalance</th>\n",
       "      <th>YearsAtCompany</th>\n",
       "      <th>YearsInCurrentRole</th>\n",
       "      <th>YearsSinceLastPromotion</th>\n",
       "      <th>YearsWithCurrManager</th>\n",
       "    </tr>\n",
       "  </thead>\n",
       "  <tbody>\n",
       "    <tr>\n",
       "      <td>0</td>\n",
       "      <td>41</td>\n",
       "      <td>Yes</td>\n",
       "      <td>Travel_Rarely</td>\n",
       "      <td>1102</td>\n",
       "      <td>Sales</td>\n",
       "      <td>1</td>\n",
       "      <td>2</td>\n",
       "      <td>Life Sciences</td>\n",
       "      <td>1</td>\n",
       "      <td>1</td>\n",
       "      <td>...</td>\n",
       "      <td>1</td>\n",
       "      <td>80</td>\n",
       "      <td>0</td>\n",
       "      <td>8</td>\n",
       "      <td>0</td>\n",
       "      <td>1</td>\n",
       "      <td>6</td>\n",
       "      <td>4</td>\n",
       "      <td>0</td>\n",
       "      <td>5</td>\n",
       "    </tr>\n",
       "    <tr>\n",
       "      <td>1</td>\n",
       "      <td>49</td>\n",
       "      <td>No</td>\n",
       "      <td>Travel_Frequently</td>\n",
       "      <td>279</td>\n",
       "      <td>Research &amp; Development</td>\n",
       "      <td>8</td>\n",
       "      <td>1</td>\n",
       "      <td>Life Sciences</td>\n",
       "      <td>1</td>\n",
       "      <td>2</td>\n",
       "      <td>...</td>\n",
       "      <td>4</td>\n",
       "      <td>80</td>\n",
       "      <td>1</td>\n",
       "      <td>10</td>\n",
       "      <td>3</td>\n",
       "      <td>3</td>\n",
       "      <td>10</td>\n",
       "      <td>7</td>\n",
       "      <td>1</td>\n",
       "      <td>7</td>\n",
       "    </tr>\n",
       "    <tr>\n",
       "      <td>2</td>\n",
       "      <td>37</td>\n",
       "      <td>Yes</td>\n",
       "      <td>Travel_Rarely</td>\n",
       "      <td>1373</td>\n",
       "      <td>Research &amp; Development</td>\n",
       "      <td>2</td>\n",
       "      <td>2</td>\n",
       "      <td>Other</td>\n",
       "      <td>1</td>\n",
       "      <td>4</td>\n",
       "      <td>...</td>\n",
       "      <td>2</td>\n",
       "      <td>80</td>\n",
       "      <td>0</td>\n",
       "      <td>7</td>\n",
       "      <td>3</td>\n",
       "      <td>3</td>\n",
       "      <td>0</td>\n",
       "      <td>0</td>\n",
       "      <td>0</td>\n",
       "      <td>0</td>\n",
       "    </tr>\n",
       "    <tr>\n",
       "      <td>3</td>\n",
       "      <td>33</td>\n",
       "      <td>No</td>\n",
       "      <td>Travel_Frequently</td>\n",
       "      <td>1392</td>\n",
       "      <td>Research &amp; Development</td>\n",
       "      <td>3</td>\n",
       "      <td>4</td>\n",
       "      <td>Life Sciences</td>\n",
       "      <td>1</td>\n",
       "      <td>5</td>\n",
       "      <td>...</td>\n",
       "      <td>3</td>\n",
       "      <td>80</td>\n",
       "      <td>0</td>\n",
       "      <td>8</td>\n",
       "      <td>3</td>\n",
       "      <td>3</td>\n",
       "      <td>8</td>\n",
       "      <td>7</td>\n",
       "      <td>3</td>\n",
       "      <td>0</td>\n",
       "    </tr>\n",
       "    <tr>\n",
       "      <td>4</td>\n",
       "      <td>27</td>\n",
       "      <td>No</td>\n",
       "      <td>Travel_Rarely</td>\n",
       "      <td>591</td>\n",
       "      <td>Research &amp; Development</td>\n",
       "      <td>2</td>\n",
       "      <td>1</td>\n",
       "      <td>Medical</td>\n",
       "      <td>1</td>\n",
       "      <td>7</td>\n",
       "      <td>...</td>\n",
       "      <td>4</td>\n",
       "      <td>80</td>\n",
       "      <td>1</td>\n",
       "      <td>6</td>\n",
       "      <td>3</td>\n",
       "      <td>3</td>\n",
       "      <td>2</td>\n",
       "      <td>2</td>\n",
       "      <td>2</td>\n",
       "      <td>2</td>\n",
       "    </tr>\n",
       "  </tbody>\n",
       "</table>\n",
       "<p>5 rows × 35 columns</p>\n",
       "</div>"
      ],
      "text/plain": [
       "   Age Attrition     BusinessTravel  DailyRate              Department  \\\n",
       "0   41       Yes      Travel_Rarely       1102                   Sales   \n",
       "1   49        No  Travel_Frequently        279  Research & Development   \n",
       "2   37       Yes      Travel_Rarely       1373  Research & Development   \n",
       "3   33        No  Travel_Frequently       1392  Research & Development   \n",
       "4   27        No      Travel_Rarely        591  Research & Development   \n",
       "\n",
       "   DistanceFromHome  Education EducationField  EmployeeCount  EmployeeNumber  \\\n",
       "0                 1          2  Life Sciences              1               1   \n",
       "1                 8          1  Life Sciences              1               2   \n",
       "2                 2          2          Other              1               4   \n",
       "3                 3          4  Life Sciences              1               5   \n",
       "4                 2          1        Medical              1               7   \n",
       "\n",
       "   ...  RelationshipSatisfaction StandardHours  StockOptionLevel  \\\n",
       "0  ...                         1            80                 0   \n",
       "1  ...                         4            80                 1   \n",
       "2  ...                         2            80                 0   \n",
       "3  ...                         3            80                 0   \n",
       "4  ...                         4            80                 1   \n",
       "\n",
       "   TotalWorkingYears  TrainingTimesLastYear WorkLifeBalance  YearsAtCompany  \\\n",
       "0                  8                      0               1               6   \n",
       "1                 10                      3               3              10   \n",
       "2                  7                      3               3               0   \n",
       "3                  8                      3               3               8   \n",
       "4                  6                      3               3               2   \n",
       "\n",
       "  YearsInCurrentRole  YearsSinceLastPromotion  YearsWithCurrManager  \n",
       "0                  4                        0                     5  \n",
       "1                  7                        1                     7  \n",
       "2                  0                        0                     0  \n",
       "3                  7                        3                     0  \n",
       "4                  2                        2                     2  \n",
       "\n",
       "[5 rows x 35 columns]"
      ]
     },
     "execution_count": 4,
     "metadata": {},
     "output_type": "execute_result"
    }
   ],
   "source": [
    "ibm.head()"
   ]
  },
  {
   "cell_type": "code",
   "execution_count": 5,
   "metadata": {},
   "outputs": [
    {
     "data": {
      "text/plain": [
       "Index(['Age', 'Attrition', 'BusinessTravel', 'DailyRate', 'Department',\n",
       "       'DistanceFromHome', 'Education', 'EducationField', 'EmployeeCount',\n",
       "       'EmployeeNumber', 'EnvironmentSatisfaction', 'Gender', 'HourlyRate',\n",
       "       'JobInvolvement', 'JobLevel', 'JobRole', 'JobSatisfaction',\n",
       "       'MaritalStatus', 'MonthlyIncome', 'MonthlyRate', 'NumCompaniesWorked',\n",
       "       'Over18', 'OverTime', 'PercentSalaryHike', 'PerformanceRating',\n",
       "       'RelationshipSatisfaction', 'StandardHours', 'StockOptionLevel',\n",
       "       'TotalWorkingYears', 'TrainingTimesLastYear', 'WorkLifeBalance',\n",
       "       'YearsAtCompany', 'YearsInCurrentRole', 'YearsSinceLastPromotion',\n",
       "       'YearsWithCurrManager'],\n",
       "      dtype='object')"
      ]
     },
     "execution_count": 5,
     "metadata": {},
     "output_type": "execute_result"
    }
   ],
   "source": [
    "ibm.columns"
   ]
  },
  {
   "cell_type": "code",
   "execution_count": 6,
   "metadata": {},
   "outputs": [
    {
     "data": {
      "text/plain": [
       "1470"
      ]
     },
     "execution_count": 6,
     "metadata": {},
     "output_type": "execute_result"
    }
   ],
   "source": [
    "len(ibm)"
   ]
  },
  {
   "cell_type": "markdown",
   "metadata": {},
   "source": [
    "## Questions:"
   ]
  },
  {
   "cell_type": "markdown",
   "metadata": {},
   "source": [
    "1. How do attrition rates vary among employees of different positions, time spent in their position, and seniority levels?"
   ]
  },
  {
   "cell_type": "code",
   "execution_count": null,
   "metadata": {},
   "outputs": [],
   "source": []
  },
  {
   "cell_type": "markdown",
   "metadata": {},
   "source": [
    "2. How does life status (age, marital status, education, work/life balance) affect job satisfaction and performance?"
   ]
  },
  {
   "cell_type": "code",
   "execution_count": 7,
   "metadata": {},
   "outputs": [],
   "source": [
    "ibm_single = ibm[ ibm['MaritalStatus'] == 'Single' ]\n",
    "ibm_married = ibm[ ibm['MaritalStatus'] == 'Married' ]\n",
    "ibm_divorced = ibm[ ibm['MaritalStatus'] == 'Divorced' ]"
   ]
  },
  {
   "cell_type": "code",
   "execution_count": 8,
   "metadata": {},
   "outputs": [],
   "source": [
    "x = range(1,5)\n",
    "ibm_single_y = ibm_single['JobSatisfaction'].value_counts().map(lambda x: x / len(ibm_single) * 100).sort_values()\n",
    "ibm_married_y = ibm_married['JobSatisfaction'].value_counts().map(lambda x: x / len(ibm_married) * 100).sort_values()\n",
    "ibm_divorced_y = ibm_divorced['JobSatisfaction'].value_counts().map(lambda x: x / len(ibm_divorced) * 100).sort_values()"
   ]
  },
  {
   "cell_type": "code",
   "execution_count": 9,
   "metadata": {},
   "outputs": [
    {
     "data": {
      "text/plain": [
       "1470"
      ]
     },
     "execution_count": 9,
     "metadata": {},
     "output_type": "execute_result"
    }
   ],
   "source": [
    "len(ibm_single) + len(ibm_married) + len(ibm_divorced)"
   ]
  },
  {
   "cell_type": "code",
   "execution_count": 10,
   "metadata": {},
   "outputs": [
    {
     "data": {
      "image/png": "[encoded data removed]",
      "text/plain": [
       "<Figure size 432x288 with 1 Axes>"
      ]
     },
     "metadata": {
      "needs_background": "light"
     },
     "output_type": "display_data"
    }
   ],
   "source": [
    "ax = plt.gca()\n",
    "\n",
    "single_plot = plt.bar(np.arange(1,5)-0.3, ibm_single_y, align='edge', width=0.2, color='blue', edgecolor='black')\n",
    "married_plot = plt.bar(np.arange(1,5)-0.1, ibm_married_y, align='edge', width=0.2, color='red', edgecolor='black')\n",
    "divorced_plot = plt.bar(np.arange(1,5)+0.1, ibm_divorced_y, align='edge', width=0.2, color='yellow', edgecolor='black')\n",
    "\n",
    "leg = ax.legend((single_plot[0], married_plot[0], divorced_plot[0]), ('Single', 'Married', 'Divorced'))\n",
    "\n",
    "plt.xticks(np.arange(1, 5, 1.0))\n",
    "plt.xlabel('Job Satisfaction')\n",
    "plt.ylabel('Percentage of Employees')\n",
    "plt.title('Job Satisfaction shows little variance among marital statuses')\n",
    "plt.show()"
   ]
  },
  {
   "cell_type": "code",
   "execution_count": 11,
   "metadata": {},
   "outputs": [],
   "source": [
    "ibm_single_y = ibm_single['PerformanceRating'].value_counts().map(lambda x: x / len(ibm_single) * 100).sort_values()\n",
    "ibm_married_y = ibm_married['PerformanceRating'].value_counts().map(lambda x: x / len(ibm_married) * 100).sort_values()\n",
    "ibm_divorced_y = ibm_divorced['PerformanceRating'].value_counts().map(lambda x: x / len(ibm_divorced) * 100).sort_values()"
   ]
  },
  {
   "cell_type": "code",
   "execution_count": 12,
   "metadata": {},
   "outputs": [
    {
     "data": {
      "image/png": "[encoded data removed]",
      "text/plain": [
       "<Figure size 432x288 with 1 Axes>"
      ]
     },
     "metadata": {
      "needs_background": "light"
     },
     "output_type": "display_data"
    }
   ],
   "source": [
    "ax = plt.gca()\n",
    "\n",
    "single_plot = plt.bar(np.arange(3,5)-0.3, ibm_single_y, align='edge', width=0.2, color='blue', edgecolor='black')\n",
    "married_plot = plt.bar(np.arange(3,5)-0.1, ibm_married_y, align='edge', width=0.2, color='red', edgecolor='black')\n",
    "divorced_plot = plt.bar(np.arange(3,5)+0.1, ibm_divorced_y, align='edge', width=0.2, color='yellow', edgecolor='black')\n",
    "\n",
    "leg = ax.legend((single_plot[0], married_plot[0], divorced_plot[0]), ('Single', 'Married', 'Divorced'))\n",
    "\n",
    "plt.xticks(np.arange(3, 5, 1.0))\n",
    "ax.set_xticklabels(['Low', 'High'])\n",
    "plt.xlabel('Job Performance')\n",
    "plt.ylabel('Percentage of Employees')\n",
    "plt.title('Job Performance shows little variance among marital statuses')\n",
    "plt.show()"
   ]
  },
  {
   "cell_type": "code",
   "execution_count": 13,
   "metadata": {},
   "outputs": [],
   "source": [
    "ibm_nontravel = ibm[ ibm['BusinessTravel'] == 'Non-Travel' ]\n",
    "ibm_rarely = ibm[ ibm['BusinessTravel'] == 'Travel_Rarely' ]\n",
    "ibm_frequently = ibm[ ibm['BusinessTravel'] == 'Travel_Frequently' ]"
   ]
  },
  {
   "cell_type": "code",
   "execution_count": 14,
   "metadata": {},
   "outputs": [],
   "source": [
    "ibm_nontravel_y = ibm_nontravel['JobSatisfaction'].value_counts().map(lambda x: x / len(ibm_nontravel) * 100).sort_values()\n",
    "ibm_rarely_y = ibm_rarely['JobSatisfaction'].value_counts().map(lambda x: x / len(ibm_rarely) * 100).sort_values()\n",
    "ibm_frequently_y = ibm_frequently['JobSatisfaction'].value_counts().map(lambda x: x / len(ibm_frequently) * 100).sort_values()"
   ]
  },
  {
   "cell_type": "code",
   "execution_count": 15,
   "metadata": {},
   "outputs": [
    {
     "data": {
      "text/plain": [
       "1470"
      ]
     },
     "execution_count": 15,
     "metadata": {},
     "output_type": "execute_result"
    }
   ],
   "source": [
    "len(ibm_nontravel) + len(ibm_rarely) + len(ibm_frequently)"
   ]
  },
  {
   "cell_type": "code",
   "execution_count": 16,
   "metadata": {},
   "outputs": [
    {
     "data": {
      "image/png": "[encoded data removed]",
      "text/plain": [
       "<Figure size 432x288 with 1 Axes>"
      ]
     },
     "metadata": {
      "needs_background": "light"
     },
     "output_type": "display_data"
    }
   ],
   "source": [
    "ax = plt.gca()\n",
    "\n",
    "nontravel_plot = plt.bar(np.arange(1,5)-0.3, ibm_nontravel_y, align='edge', width=0.2, color='blue', edgecolor='black')\n",
    "rarely_plot = plt.bar(np.arange(1,5)-0.1, ibm_rarely_y, align='edge', width=0.2, color='red', edgecolor='black')\n",
    "frequently_plot = plt.bar(np.arange(1,5)+0.1, ibm_frequently_y, align='edge', width=0.2, color='yellow', edgecolor='black')\n",
    "\n",
    "leg = ax.legend((nontravel_plot[0], rarely_plot[0], frequently_plot[0]), ('Non-Travel', 'Travel Rarely', 'Travel Frequently'))\n",
    "\n",
    "plt.xticks(np.arange(1, 5, 1.0))\n",
    "plt.xlabel('Job Satisfaction')\n",
    "plt.ylabel('Percentage of Employees')\n",
    "plt.title('Non-Traveling Employees Have a Higher Percentage of Job Satisfaction')\n",
    "plt.show()"
   ]
  },
  {
   "cell_type": "code",
   "execution_count": 17,
   "metadata": {},
   "outputs": [],
   "source": [
    "ibm_nontravel_y = ibm_nontravel['PerformanceRating'].value_counts().map(lambda x: x / len(ibm_nontravel) * 100).sort_values()\n",
    "ibm_rarely_y = ibm_rarely['PerformanceRating'].value_counts().map(lambda x: x / len(ibm_rarely) * 100).sort_values()\n",
    "ibm_frequently_y = ibm_frequently['PerformanceRating'].value_counts().map(lambda x: x / len(ibm_frequently) * 100).sort_values()"
   ]
  },
  {
   "cell_type": "code",
   "execution_count": 18,
   "metadata": {},
   "outputs": [
    {
     "data": {
      "image/png": "[encoded data removed]",
      "text/plain": [
       "<Figure size 432x288 with 1 Axes>"
      ]
     },
     "metadata": {
      "needs_background": "light"
     },
     "output_type": "display_data"
    }
   ],
   "source": [
    "ax = plt.gca()\n",
    "\n",
    "nontravel_plot = plt.bar(np.arange(3,5)-0.3, ibm_nontravel_y, align='edge', width=0.2, color='blue', edgecolor='black')\n",
    "rarely_plot = plt.bar(np.arange(3,5)-0.1, ibm_rarely_y, align='edge', width=0.2, color='red', edgecolor='black')\n",
    "frequently_plot = plt.bar(np.arange(3,5)+0.1, ibm_frequently_y, align='edge', width=0.2, color='yellow', edgecolor='black')\n",
    "\n",
    "leg = ax.legend((nontravel_plot[0], rarely_plot[0], frequently_plot[0]), ('Non-Travel', 'Travel Rarely', 'Travel Frequently'))\n",
    "\n",
    "plt.xticks(np.arange(3, 5, 1.0))\n",
    "ax.set_xticklabels(['Low', 'High'])\n",
    "plt.xlabel('Job Satisfaction')\n",
    "plt.ylabel('Percentage of Employees')\n",
    "plt.title('Traveling has little effect on Job Performance')\n",
    "plt.show()"
   ]
  },
  {
   "cell_type": "markdown",
   "metadata": {},
   "source": [
    "3. How does income/salary affect job attrition and job performance?"
   ]
  },
  {
   "cell_type": "code",
   "execution_count": 38,
   "metadata": {},
   "outputs": [
    {
     "data": {
      "text/plain": [
       "Text(0, 0.5, 'Number of Employees')"
      ]
     },
     "execution_count": 38,
     "metadata": {},
     "output_type": "execute_result"
    },
    {
     "data": {
      "image/png": "[encoded data removed]",
      "text/plain": [
       "<Figure size 432x288 with 1 Axes>"
      ]
     },
     "metadata": {
      "needs_background": "light"
     },
     "output_type": "display_data"
    }
   ],
   "source": [
    "ibm_yes = ibm[ibm['Attrition'] == 'Yes']\n",
    "ibm_no = ibm[ibm['Attrition'] == 'No']\n",
    "\n",
    "\n",
    "ibm_no_income = ibm_no['MonthlyIncome'].apply(lambda x: x//1000*1000)\n",
    "\n",
    "#value_counts().sort_index().plot.bar(color='orange')\n",
    "\n",
    "# ibm_hourly_rate = ibm[ibm['HourlyRate']]\n",
    "# ibm_monthly_income = ibm[ibm['MonthlyIncome']]\n",
    "# ibm_monthly_rate = ibm[ibm['MonthlyRate']]\n",
    "# ibm_pct_salary_hike = ibm[ibm['PercentSalaryHike']]\n",
    "# ibm_stock_option_level = ibm[ibm['StockOptionLevel']]\n",
    "\n",
    "ax = ibm_no_income.value_counts().sort_index().plot.bar(color='orange')\n",
    "ax.set_xlabel(\"Monthly Income by Thousands for Employees Who Did Not Quit\")\n",
    "ax.set_ylabel(\"Number of Employees\")\n",
    "\n"
   ]
  },
  {
   "cell_type": "code",
   "execution_count": 37,
   "metadata": {},
   "outputs": [
    {
     "data": {
      "text/plain": [
       "Text(0, 0.5, 'Number of Employees')"
      ]
     },
     "execution_count": 37,
     "metadata": {},
     "output_type": "execute_result"
    },
    {
     "data": {
      "image/png": "[encoded data removed]",
      "text/plain": [
       "<Figure size 432x288 with 1 Axes>"
      ]
     },
     "metadata": {
      "needs_background": "light"
     },
     "output_type": "display_data"
    }
   ],
   "source": [
    "ibm_yes_income = ibm_yes['MonthlyIncome'].apply(lambda x: x//1000*1000)\n",
    "ax = ibm_yes_income.value_counts().sort_index().plot.bar(color='orange')\n",
    "ax.set_xlabel(\"Monthly Income by Thousands for Employees Who Did  Quit\")\n",
    "ax.set_ylabel(\"Number of Employees\")\n"
   ]
  },
  {
   "cell_type": "code",
   "execution_count": null,
   "metadata": {},
   "outputs": [],
   "source": [
    "\n",
    "\n",
    "\n",
    "ibm_yes_income = ibm_yes['MonthlyIncome'].apply(lambda x: x//1000*1000)\n",
    "\n",
    "ibm_yes_hourly = ibm_yes['MonthlyIncome'].apply(lambda x: x//1000*1000)"
   ]
  },
  {
   "cell_type": "code",
   "execution_count": 42,
   "metadata": {},
   "outputs": [
    {
     "data": {
      "text/plain": [
       "Text(0, 0.5, 'Number of Employees')"
      ]
     },
     "execution_count": 42,
     "metadata": {},
     "output_type": "execute_result"
    },
    {
     "data": {
      "image/png": "[encoded data removed]",
      "text/plain": [
       "<Figure size 432x288 with 1 Axes>"
      ]
     },
     "metadata": {
      "needs_background": "light"
     },
     "output_type": "display_data"
    }
   ],
   "source": []
  },
  {
   "cell_type": "code",
   "execution_count": 43,
   "metadata": {},
   "outputs": [
    {
     "data": {
      "text/plain": [
       "Text(0, 0.5, 'Number of Employees')"
      ]
     },
     "execution_count": 43,
     "metadata": {},
     "output_type": "execute_result"
    },
    {
     "data": {
      "image/png": "[encoded data removed]",
      "text/plain": [
       "<Figure size 432x288 with 1 Axes>"
      ]
     },
     "metadata": {
      "needs_background": "light"
     },
     "output_type": "display_data"
    }
   ],
   "source": [
    "ibm_yes_hourly = ibm_yes['HourlyRate'].apply(lambda x: x//10*10)\n",
    "ax = ibm_yes_hourly.value_counts().sort_index().plot.bar(color='orange')\n",
    "ax.set_xlabel(\"Hourly Rate by Tens of Dollars for Employees Who Did Quit\")\n",
    "ax.set_ylabel(\"Number of Employees\")"
   ]
  },
  {
   "cell_type": "code",
   "execution_count": 47,
   "metadata": {},
   "outputs": [
    {
     "data": {
      "text/plain": [
       "Text(0, 0.5, 'Number of Employees')"
      ]
     },
     "execution_count": 47,
     "metadata": {},
     "output_type": "execute_result"
    },
    {
     "data": {
      "image/png": "[encoded data removed]",
      "text/plain": [
       "<Figure size 432x288 with 1 Axes>"
      ]
     },
     "metadata": {
      "needs_background": "light"
     },
     "output_type": "display_data"
    }
   ],
   "source": [
    "ibm_no_stock = ibm_no['StockOptionLevel']\n",
    "ax = ibm_no_stock.value_counts().sort_index().plot.bar(color='orange')\n",
    "ax.set_xlabel(\"Stock Option Levels for Employees Who Did Not Quit\")\n",
    "ax.set_ylabel(\"Number of Employees\")\n"
   ]
  },
  {
   "cell_type": "code",
   "execution_count": 48,
   "metadata": {},
   "outputs": [
    {
     "data": {
      "text/plain": [
       "Text(0, 0.5, 'Number of Employees')"
      ]
     },
     "execution_count": 48,
     "metadata": {},
     "output_type": "execute_result"
    },
    {
     "data": {
      "image/png": "[encoded data removed]",
      "text/plain": [
       "<Figure size 432x288 with 1 Axes>"
      ]
     },
     "metadata": {
      "needs_background": "light"
     },
     "output_type": "display_data"
    }
   ],
   "source": [
    "ibm_yes_stock = ibm_yes['StockOptionLevel']\n",
    "ax = ibm_yes_stock.value_counts().sort_index().plot.bar(color='orange')\n",
    "ax.set_xlabel(\"Stock Option Levels for Employees Who Did Quit\")\n",
    "ax.set_ylabel(\"Number of Employees\")\n"
   ]
  },
  {
   "cell_type": "code",
   "execution_count": 49,
   "metadata": {},
   "outputs": [
    {
     "data": {
      "text/plain": [
       "Text(0, 0.5, 'Number of Employees')"
      ]
     },
     "execution_count": 49,
     "metadata": {},
     "output_type": "execute_result"
    },
    {
     "data": {
      "image/png": "[encoded data removed]",
      "text/plain": [
       "<Figure size 432x288 with 1 Axes>"
      ]
     },
     "metadata": {
      "needs_background": "light"
     },
     "output_type": "display_data"
    }
   ],
   "source": [
    "ibm_no_psh = ibm_no['PercentSalaryHike']\n",
    "ax = ibm_no_psh.value_counts().sort_index().plot.bar(color='orange')\n",
    "ax.set_xlabel(\"Percent Salary Hikes for Employees Who Did Not Quit\")\n",
    "ax.set_ylabel(\"Number of Employees\")\n"
   ]
  },
  {
   "cell_type": "code",
   "execution_count": 50,
   "metadata": {},
   "outputs": [
    {
     "data": {
      "text/plain": [
       "Text(0, 0.5, 'Number of Employees')"
      ]
     },
     "execution_count": 50,
     "metadata": {},
     "output_type": "execute_result"
    },
    {
     "data": {
      "image/png": "[encoded data removed]",
      "text/plain": [
       "<Figure size 432x288 with 1 Axes>"
      ]
     },
     "metadata": {
      "needs_background": "light"
     },
     "output_type": "display_data"
    }
   ],
   "source": [
    "ibm_yes_psh = ibm_yes['PercentSalaryHike']\n",
    "ax = ibm_yes_psh.value_counts().sort_index().plot.bar(color='orange')\n",
    "ax.set_xlabel(\"Percent Salary Hikes for Employees Who Did Quit\")\n",
    "ax.set_ylabel(\"Number of Employees\")"
   ]
  },
  {
   "cell_type": "code",
   "execution_count": null,
   "metadata": {},
   "outputs": [],
   "source": []
  }
 ],
 "metadata": {
  "kernelspec": {
   "display_name": "Python 3",
   "language": "python",
   "name": "python3"
  },
  "language_info": {
   "codemirror_mode": {
    "name": "ipython",
    "version": 3
   },
   "file_extension": ".py",
   "mimetype": "text/x-python",
   "name": "python",
   "nbconvert_exporter": "python",
   "pygments_lexer": "ipython3",
   "version": "3.7.4"
  }
 },
 "nbformat": 4,
 "nbformat_minor": 4
}
